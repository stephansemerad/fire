{
 "cells": [
  {
   "cell_type": "code",
   "execution_count": 18,
   "metadata": {},
   "outputs": [
    {
     "name": "stdout",
     "output_type": "stream",
     "text": [
      "b>  msci_world\n",
      "df.columns>  Index(['date', 'msci_world'], dtype='object')\n",
      "        date    msci_world    return  cumulative_return  year\n",
      "1 1979-12-31  10690.898083  0.069090           0.069090     0\n",
      "2 1980-12-31  14852.777657  0.389292           0.485278     1\n",
      "b>  sp500\n",
      "df.columns>  Index(['date', 'sp500'], dtype='object')\n",
      "        date         sp500    return  cumulative_return  year\n",
      "1 1993-12-31  11917.213202  0.100787           0.100787     0\n",
      "2 1994-12-31  12074.577750  0.013205           0.115323     1\n"
     ]
    }
   ],
   "source": [
    "import pandas as pd\n",
    "\n",
    "benchmarks = ['msci_world', 'sp500']\n",
    "for b in benchmarks:\n",
    "    print('b> ', b)\n",
    "        \n",
    "    df = pd.read_csv(f\"./static/data/{b}_daily.csv\")\n",
    "\n",
    "    df.columns = df.columns.str.lower().str.replace(\" \", \"_\")\n",
    "    print('df.columns> ', df.columns)\n",
    "\n",
    "    df[\"date\"] = pd.to_datetime(df[\"date\"], format=\"%m/%Y\")\n",
    "    df.set_index(\"date\", inplace=True)\n",
    "    df_yearly = df.resample(\"YE\").last()\n",
    "    df_yearly[f\"{b}\"] = pd.to_numeric(df_yearly[f\"{b}\"], errors=\"coerce\")\n",
    "    df_yearly[\"return\"] = df_yearly[f\"{b}\"].pct_change()\n",
    "    df_yearly[\"cumulative_return\"] = (1 + df_yearly[\"return\"]).cumprod() - 1\n",
    "\n",
    "    df_yearly = df_yearly.reset_index()\n",
    "    df_yearly = df_yearly.dropna()\n",
    "    df_yearly[\"year\"] = range(len(df_yearly))  # Add year column starting from 0\n",
    "    df_yearly.to_csv(f\"./static/data/{b}_yearly.csv\", index=False)\n",
    "    df_yearly.to_json(f\"./static/data/{b}_yearly.json\", orient=\"records\", lines=False)\n",
    "\n",
    "    print(df_yearly.head(2))"
   ]
  }
 ],
 "metadata": {
  "kernelspec": {
   "display_name": "Python 3",
   "language": "python",
   "name": "python3"
  },
  "language_info": {
   "codemirror_mode": {
    "name": "ipython",
    "version": 3
   },
   "file_extension": ".py",
   "mimetype": "text/x-python",
   "name": "python",
   "nbconvert_exporter": "python",
   "pygments_lexer": "ipython3",
   "version": "3.12.4"
  }
 },
 "nbformat": 4,
 "nbformat_minor": 2
}
