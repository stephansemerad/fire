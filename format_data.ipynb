{
 "cells": [
  {
   "cell_type": "code",
   "execution_count": 21,
   "metadata": {},
   "outputs": [
    {
     "name": "stdout",
     "output_type": "stream",
     "text": [
      "b>  msci_world\n",
      "df.columns>  Index(['date', 'msci_world'], dtype='object')\n",
      "        date    msci_world    return  cumulative_return  year\n",
      "1 1979-12-31  10690.898083  0.069090           0.069090     0\n",
      "2 1980-12-31  14852.777657  0.389292           0.485278     1\n",
      "<DatetimeArray>\n",
      "['1979-12-31 00:00:00', '1980-12-31 00:00:00', '1981-12-31 00:00:00',\n",
      " '1982-12-31 00:00:00', '1983-12-31 00:00:00', '1984-12-31 00:00:00',\n",
      " '1985-12-31 00:00:00', '1986-12-31 00:00:00', '1987-12-31 00:00:00',\n",
      " '1988-12-31 00:00:00', '1989-12-31 00:00:00', '1990-12-31 00:00:00',\n",
      " '1991-12-31 00:00:00', '1992-12-31 00:00:00', '1993-12-31 00:00:00',\n",
      " '1994-12-31 00:00:00', '1995-12-31 00:00:00', '1996-12-31 00:00:00',\n",
      " '1997-12-31 00:00:00', '1998-12-31 00:00:00', '1999-12-31 00:00:00',\n",
      " '2000-12-31 00:00:00', '2001-12-31 00:00:00', '2002-12-31 00:00:00',\n",
      " '2003-12-31 00:00:00', '2004-12-31 00:00:00', '2005-12-31 00:00:00',\n",
      " '2006-12-31 00:00:00', '2007-12-31 00:00:00', '2008-12-31 00:00:00',\n",
      " '2009-12-31 00:00:00', '2010-12-31 00:00:00', '2011-12-31 00:00:00',\n",
      " '2012-12-31 00:00:00', '2013-12-31 00:00:00', '2014-12-31 00:00:00',\n",
      " '2015-12-31 00:00:00', '2016-12-31 00:00:00', '2017-12-31 00:00:00',\n",
      " '2018-12-31 00:00:00', '2019-12-31 00:00:00', '2020-12-31 00:00:00',\n",
      " '2021-12-31 00:00:00', '2022-12-31 00:00:00', '2023-12-31 00:00:00',\n",
      " '2024-12-31 00:00:00', '2025-12-31 00:00:00']\n",
      "Length: 47, dtype: datetime64[ns]\n",
      "b>  sp500\n",
      "df.columns>  Index(['date', 'sp500'], dtype='object')\n",
      "        date         sp500    return  cumulative_return  year\n",
      "1 1993-12-31  11917.213202  0.100787           0.100787     0\n",
      "2 1994-12-31  12074.577750  0.013205           0.115323     1\n",
      "<DatetimeArray>\n",
      "['1993-12-31 00:00:00', '1994-12-31 00:00:00', '1995-12-31 00:00:00',\n",
      " '1996-12-31 00:00:00', '1997-12-31 00:00:00', '1998-12-31 00:00:00',\n",
      " '1999-12-31 00:00:00', '2000-12-31 00:00:00', '2001-12-31 00:00:00',\n",
      " '2002-12-31 00:00:00', '2003-12-31 00:00:00', '2004-12-31 00:00:00',\n",
      " '2005-12-31 00:00:00', '2006-12-31 00:00:00', '2007-12-31 00:00:00',\n",
      " '2008-12-31 00:00:00', '2009-12-31 00:00:00', '2010-12-31 00:00:00',\n",
      " '2011-12-31 00:00:00', '2012-12-31 00:00:00', '2013-12-31 00:00:00',\n",
      " '2014-12-31 00:00:00', '2015-12-31 00:00:00', '2016-12-31 00:00:00',\n",
      " '2017-12-31 00:00:00', '2018-12-31 00:00:00', '2019-12-31 00:00:00',\n",
      " '2020-12-31 00:00:00', '2021-12-31 00:00:00', '2022-12-31 00:00:00',\n",
      " '2023-12-31 00:00:00', '2024-12-31 00:00:00', '2025-12-31 00:00:00']\n",
      "Length: 33, dtype: datetime64[ns]\n"
     ]
    }
   ],
   "source": [
    "import pandas as pd\n",
    "\n",
    "benchmarks = ['msci_world', 'sp500']\n",
    "for b in benchmarks:\n",
    "    print('b> ', b)\n",
    "        \n",
    "    df = pd.read_csv(f\"./static/data/{b}_daily.csv\")\n",
    "\n",
    "    df.columns = df.columns.str.lower().str.replace(\" \", \"_\")\n",
    "    print('df.columns> ', df.columns)\n",
    "\n",
    "    df[\"date\"] = pd.to_datetime(df[\"date\"], format=\"%m/%Y\")\n",
    "    df.set_index(\"date\", inplace=True)\n",
    "    df_yearly = df.resample(\"YE\").last()\n",
    "    df_yearly[f\"{b}\"] = pd.to_numeric(df_yearly[f\"{b}\"], errors=\"coerce\")\n",
    "    df_yearly[\"return\"] = df_yearly[f\"{b}\"].pct_change()\n",
    "    df_yearly[\"cumulative_return\"] = (1 + df_yearly[\"return\"]).cumprod() - 1\n",
    "\n",
    "    df_yearly = df_yearly.reset_index()\n",
    "    df_yearly = df_yearly.dropna()\n",
    "    df_yearly[\"year\"] = range(len(df_yearly))  # Add year column starting from 0\n",
    "    df_yearly.to_csv(f\"./static/data/{b}_yearly.csv\", index=False)\n",
    "    df_yearly.to_json(f\"./static/data/{b}_yearly.json\", orient=\"records\", lines=False)\n",
    "\n",
    "    print(df_yearly.head(2))\n",
    "    print(df_yearly['date'].unique())"
   ]
  }
 ],
 "metadata": {
  "kernelspec": {
   "display_name": "Python 3",
   "language": "python",
   "name": "python3"
  },
  "language_info": {
   "codemirror_mode": {
    "name": "ipython",
    "version": 3
   },
   "file_extension": ".py",
   "mimetype": "text/x-python",
   "name": "python",
   "nbconvert_exporter": "python",
   "pygments_lexer": "ipython3",
   "version": "3.12.4"
  }
 },
 "nbformat": 4,
 "nbformat_minor": 2
}
