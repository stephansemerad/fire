{
 "cells": [
  {
   "cell_type": "code",
   "execution_count": 17,
   "metadata": {},
   "outputs": [
    {
     "name": "stderr",
     "output_type": "stream",
     "text": [
      "C:\\Users\\l\\AppData\\Local\\Temp\\ipykernel_28028\\3822222990.py:8: FutureWarning: 'Y' is deprecated and will be removed in a future version, please use 'YE' instead.\n",
      "  df_yearly = df.resample(\"Y\").last()\n"
     ]
    },
    {
     "data": {
      "text/html": [
       "<div>\n",
       "<style scoped>\n",
       "    .dataframe tbody tr th:only-of-type {\n",
       "        vertical-align: middle;\n",
       "    }\n",
       "\n",
       "    .dataframe tbody tr th {\n",
       "        vertical-align: top;\n",
       "    }\n",
       "\n",
       "    .dataframe thead th {\n",
       "        text-align: right;\n",
       "    }\n",
       "</style>\n",
       "<table border=\"1\" class=\"dataframe\">\n",
       "  <thead>\n",
       "    <tr style=\"text-align: right;\">\n",
       "      <th></th>\n",
       "      <th>date</th>\n",
       "      <th>msci_world</th>\n",
       "      <th>return</th>\n",
       "      <th>cumulative_return</th>\n",
       "      <th>year</th>\n",
       "    </tr>\n",
       "  </thead>\n",
       "  <tbody>\n",
       "    <tr>\n",
       "      <th>1</th>\n",
       "      <td>1979-12-31</td>\n",
       "      <td>10690.898083</td>\n",
       "      <td>0.069090</td>\n",
       "      <td>0.069090</td>\n",
       "      <td>0</td>\n",
       "    </tr>\n",
       "    <tr>\n",
       "      <th>2</th>\n",
       "      <td>1980-12-31</td>\n",
       "      <td>14852.777657</td>\n",
       "      <td>0.389292</td>\n",
       "      <td>0.485278</td>\n",
       "      <td>1</td>\n",
       "    </tr>\n",
       "  </tbody>\n",
       "</table>\n",
       "</div>"
      ],
      "text/plain": [
       "        date    msci_world    return  cumulative_return  year\n",
       "1 1979-12-31  10690.898083  0.069090           0.069090     0\n",
       "2 1980-12-31  14852.777657  0.389292           0.485278     1"
      ]
     },
     "execution_count": 17,
     "metadata": {},
     "output_type": "execute_result"
    }
   ],
   "source": [
    "import pandas as pd\n",
    "df = pd.read_csv(\"./msci_world_daily.csv\")\n",
    "\n",
    "df.columns = df.columns.str.lower().str.replace(\" \", \"_\")\n",
    "\n",
    "df[\"date\"] = pd.to_datetime(df[\"date\"], format=\"%m/%Y\")\n",
    "df.set_index(\"date\", inplace=True)\n",
    "df_yearly = df.resample(\"Y\").last()\n",
    "df_yearly[\"msci_world\"] = pd.to_numeric(df_yearly[\"msci_world\"], errors=\"coerce\")\n",
    "df_yearly[\"return\"] = df_yearly[\"msci_world\"].pct_change()\n",
    "df_yearly[\"cumulative_return\"] = (1 + df_yearly[\"return\"]).cumprod() - 1\n",
    "\n",
    "df_yearly = df_yearly.reset_index()\n",
    "df_yearly = df_yearly.dropna()\n",
    "df_yearly[\"year\"] = range(len(df_yearly))  # Add year column starting from 0\n",
    "df_yearly.to_csv(\"msci_world_yearly.csv\", index=False)\n",
    "df_yearly.to_json(\"msci_world_yearly.json\", orient=\"records\", lines=False)\n",
    "\n",
    "df_yearly.head(2)"
   ]
  }
 ],
 "metadata": {
  "kernelspec": {
   "display_name": "Python 3",
   "language": "python",
   "name": "python3"
  },
  "language_info": {
   "codemirror_mode": {
    "name": "ipython",
    "version": 3
   },
   "file_extension": ".py",
   "mimetype": "text/x-python",
   "name": "python",
   "nbconvert_exporter": "python",
   "pygments_lexer": "ipython3",
   "version": "3.12.4"
  }
 },
 "nbformat": 4,
 "nbformat_minor": 2
}
