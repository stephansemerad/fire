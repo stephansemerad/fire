{
 "cells": [
  {
   "cell_type": "code",
   "execution_count": 56,
   "metadata": {},
   "outputs": [],
   "source": [
    "import requests\n",
    "import xmltodict\n",
    "import json\n"
   ]
  },
  {
   "cell_type": "code",
   "execution_count": 57,
   "metadata": {},
   "outputs": [],
   "source": [
    "url = \"https://sdmx.oecd.org/archive/rest/data/OECD,DF_DP_LIVE,/.HHSAV...A?startPeriod=2022&endPeriod=2022&dimensionAtObservation=AllDimensions\"\n",
    "r = requests.get(url)\n",
    "r.status_code\n",
    "xml_dict = xmltodict.parse(r.text)\n"
   ]
  },
  {
   "cell_type": "code",
   "execution_count": null,
   "metadata": {},
   "outputs": [
    {
     "name": "stdout",
     "output_type": "stream",
     "text": [
      "{'United Kingdom': 0.0202, 'Sweden': 0.1329, 'Ireland': 0.077, 'Austria': 0.0925, 'Lithuania': 0.0125, 'Spain': 0.0295, 'European Union': 0.0577, 'Poland': -0.0289, 'Mexico': 0.0273, 'Denmark': 0.0682, 'Finland': -0.0086, 'Latvia': -0.0723, 'South Korea': 0.1081, 'Germany': 0.1114, 'European Area': 0.0691, 'South Africa': 0.0021, 'Slovakia': -0.0248, 'Luxembourg': 0.1161, 'Czech Republic': 0.1172, 'Estonia': -0.0469, 'Canada': 0.0577, 'Italy': 0.0182, 'Portugal': -0.0476, 'Greece': -0.1131, 'France': 0.112, 'Switzerland': 0.1932, 'Netherlands': 0.127, 'Hungary': 0.0846, 'Belgium': 0.0575}\n"
     ]
    }
   ],
   "source": [
    "with open(\"./static/data/oecd_countries.json\", \"r\") as json_file:\n",
    "    oecd_countries = json.load(json_file)\n",
    "\n",
    "data = xml_dict[\"message:GenericData\"][\"message:DataSet\"][\"generic:Obs\"]\n",
    "result = {}\n",
    "for x in data:\n",
    "    line = x[\"generic:ObsKey\"]\n",
    "    country = x[\"generic:ObsKey\"][\"generic:Value\"][1][\"@value\"]\n",
    "    value = float(x[\"generic:ObsValue\"][\"@value\"]) / 100\n",
    "    country_name = oecd_countries[country]\n",
    "    result[country_name] = round(value, 4)\n",
    "\n",
    "print(result)\n",
    "\n",
    "with open(\"./static/data/savings_rate.json\", \"w\") as json_file:\n",
    "    json.dump(result, json_file, indent=4)\n",
    "    "
   ]
  }
 ],
 "metadata": {
  "kernelspec": {
   "display_name": "Python 3",
   "language": "python",
   "name": "python3"
  },
  "language_info": {
   "codemirror_mode": {
    "name": "ipython",
    "version": 3
   },
   "file_extension": ".py",
   "mimetype": "text/x-python",
   "name": "python",
   "nbconvert_exporter": "python",
   "pygments_lexer": "ipython3",
   "version": "3.12.4"
  }
 },
 "nbformat": 4,
 "nbformat_minor": 2
}
